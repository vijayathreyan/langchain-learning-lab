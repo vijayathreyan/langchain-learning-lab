{
 "cells": [
  {
   "cell_type": "markdown",
   "metadata": {},
   "source": [
    "In this section, we're using Langchain to load the contents of various sources into memory, so we can later process it using language models (LLMs).\n"
   ]
  },
  {
   "cell_type": "markdown",
   "metadata": {},
   "source": [
    "For any Langchain operations, we have to import the associated Langchain module first. in the first example, we are going to load a Text from a text file. \n",
    "\n",
    "The Library that helps to load this text is called TextLoader. We're importing this TextLoader from langchain_community.document_loaders.\n",
    "\n",
    "This class helps us read text files and convert them into a format that Langchain can work with.\n",
    "\n",
    "If any modules is missing in your environment, kindly import using PIP. like pip install langchain_community"
   ]
  },
  {
   "cell_type": "code",
   "execution_count": 8,
   "metadata": {},
   "outputs": [],
   "source": [
    "from langchain_community.document_loaders import TextLoader"
   ]
  },
  {
   "cell_type": "markdown",
   "metadata": {},
   "source": [
    "We are creating an instance of TextLoader and telling it which file to load.\n",
    "Here, \"text.txt\" is the name of the file located in the same folder as this notebook.\n",
    "You can replace \"text.txt\" with any other file name or path."
   ]
  },
  {
   "cell_type": "code",
   "execution_count": 9,
   "metadata": {},
   "outputs": [],
   "source": [
    "loader = TextLoader(\"text.txt\")"
   ]
  },
  {
   "cell_type": "markdown",
   "metadata": {},
   "source": [
    "The .load() function actually reads the contents of the file.\n",
    "It returns the document(s) in a format that Langchain can use for further operations like summarization, Q&A, etc."
   ]
  },
  {
   "cell_type": "code",
   "execution_count": 10,
   "metadata": {},
   "outputs": [
    {
     "data": {
      "text/plain": [
       "[Document(metadata={'source': 'text.txt'}, page_content='\"Mother\" is a song by American singer-songwriter Meghan Trainor (pictured) from the deluxe edition of her fifth major-label studio album, Takin\\' It Back (2022). She wrote the song with Sean Douglas, and its producers, Gian Stone, and her brother Justin. Epic Records released it as the lead single on March 27, 2023. A pop song with doo-wop influences, \"Mother\" interpolates \"Mr. Sandman\". Inspired by men who said Trainor\\'s pregnancy would end her career, the song is about women\\'s empowerment; she asks the male subject to stop mansplaining and to listen to her. Critics were complimentary about the composition but criticized the use of the term \"mother\". The song reached the top 30 in Belgium, Ireland, Suriname, and the United Kingdom. Charm La\\'Donna directed the music video, which stars Kris Jenner; critics praised the fashion choices and described it as glamorous. Trainor performed the song on Today, Capital\\'s Summertime Ball, and the Timeless Tour (2024). (This article is part of a featured topic: Takin\\' It Back.)')]"
      ]
     },
     "execution_count": 10,
     "metadata": {},
     "output_type": "execute_result"
    }
   ],
   "source": [
    "loader.load()"
   ]
  },
  {
   "cell_type": "markdown",
   "metadata": {},
   "source": [
    "Once loaded, the output will be a list of Langchain Document objects containing the text from your file.\n"
   ]
  }
 ],
 "metadata": {
  "kernelspec": {
   "display_name": ".venv",
   "language": "python",
   "name": "python3"
  },
  "language_info": {
   "codemirror_mode": {
    "name": "ipython",
    "version": 3
   },
   "file_extension": ".py",
   "mimetype": "text/x-python",
   "name": "python",
   "nbconvert_exporter": "python",
   "pygments_lexer": "ipython3",
   "version": "3.13.2"
  }
 },
 "nbformat": 4,
 "nbformat_minor": 2
}
